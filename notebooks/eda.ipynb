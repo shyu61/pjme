{
 "cells": [
  {
   "cell_type": "code",
   "execution_count": 26,
   "metadata": {},
   "outputs": [],
   "source": [
    "import datetime\n",
    "from pathlib import Path\n",
    "from lightgbm import LGBMRegressor\n",
    "import polars as pl\n",
    "from sklearn.metrics import mean_squared_error\n",
    "\n",
    "DATA_DIR = Path(\"../data\")\n",
    "\n",
    "import src.lgb as lgb"
   ]
  },
  {
   "cell_type": "code",
   "execution_count": 27,
   "metadata": {},
   "outputs": [
    {
     "name": "stdout",
     "output_type": "stream",
     "text": [
      "3896.71370\n"
     ]
    }
   ],
   "source": [
    "lgb.main()"
   ]
  },
  {
   "cell_type": "code",
   "execution_count": 6,
   "metadata": {},
   "outputs": [],
   "source": [
    "def feature_engineering(df: pl.DataFrame) -> pl.DataFrame:\n",
    "    df = df.with_columns(\n",
    "        pl.col(\"date\").alias(\"date\"),\n",
    "        pl.col(\"date\").dt.year().alias(\"year\"),\n",
    "        pl.col(\"date\").dt.quarter().alias(\"quarter\"),\n",
    "        pl.col(\"date\").dt.month().alias(\"month\"),\n",
    "        pl.col(\"date\").dt.week().alias(\"week_of_year\"),\n",
    "        pl.col(\"date\").dt.hour().alias(\"hour\"),\n",
    "        pl.col(\"date\").dt.weekday().alias(\"day_of_week\"),\n",
    "        pl.col(\"date\").dt.day().alias(\"day_of_month\"),\n",
    "        pl.col(\"date\").dt.ordinal_day().alias(\"day_of_year\"),\n",
    "    )\n",
    "    return df"
   ]
  },
  {
   "cell_type": "code",
   "execution_count": 14,
   "metadata": {},
   "outputs": [],
   "source": [
    "df = pl.read_csv(DATA_DIR / \"PJME_hourly.csv\")\n",
    "df = df.with_columns(pl.col(\"Datetime\").str.to_datetime()).rename(\n",
    "    {\"Datetime\": \"date\"}\n",
    ")\n",
    "df = feature_engineering(df)\n",
    "\n",
    "split_date = datetime.datetime(2015, 1, 1)\n",
    "train = df.filter(pl.col(\"date\") <= split_date)\n",
    "test = df.filter(pl.col(\"date\") > split_date)"
   ]
  },
  {
   "cell_type": "code",
   "execution_count": 20,
   "metadata": {},
   "outputs": [
    {
     "data": {
      "text/plain": [
       "(31439, 8)"
      ]
     },
     "execution_count": 20,
     "metadata": {},
     "output_type": "execute_result"
    }
   ],
   "source": [
    "test.drop(\"date\", \"PJME_MW\").shape"
   ]
  },
  {
   "cell_type": "code",
   "execution_count": 21,
   "metadata": {},
   "outputs": [
    {
     "data": {
      "text/plain": [
       "(113927, 10)"
      ]
     },
     "execution_count": 21,
     "metadata": {},
     "output_type": "execute_result"
    }
   ],
   "source": [
    "train.shape"
   ]
  },
  {
   "cell_type": "code",
   "execution_count": 22,
   "metadata": {},
   "outputs": [
    {
     "name": "stdout",
     "output_type": "stream",
     "text": [
      "[LightGBM] [Info] Auto-choosing row-wise multi-threading, the overhead of testing was 0.000916 seconds.\n",
      "You can set `force_row_wise=true` to remove the overhead.\n",
      "And if memory is not enough, you can set `force_col_wise=true`.\n",
      "[LightGBM] [Info] Total Bins 406\n",
      "[LightGBM] [Info] Number of data points in the train set: 113927, number of used features: 8\n",
      "[LightGBM] [Info] Start training from score 32289.301412\n"
     ]
    }
   ],
   "source": [
    "model = LGBMRegressor()\n",
    "model.fit(train.drop(\"date\", \"PJME_MW\"), train[\"PJME_MW\"])\n",
    "pred = model.predict(test.drop(\"date\", \"PJME_MW\"))"
   ]
  },
  {
   "cell_type": "code",
   "execution_count": 24,
   "metadata": {},
   "outputs": [
    {
     "data": {
      "text/plain": [
       "3896.7137039323848"
      ]
     },
     "execution_count": 24,
     "metadata": {},
     "output_type": "execute_result"
    }
   ],
   "source": [
    "mean_squared_error(y_true=test[\"PJME_MW\"], y_pred=pred, squared=False)"
   ]
  }
 ],
 "metadata": {
  "kernelspec": {
   "display_name": ".venv",
   "language": "python",
   "name": "python3"
  },
  "language_info": {
   "codemirror_mode": {
    "name": "ipython",
    "version": 3
   },
   "file_extension": ".py",
   "mimetype": "text/x-python",
   "name": "python",
   "nbconvert_exporter": "python",
   "pygments_lexer": "ipython3",
   "version": "3.10.13"
  }
 },
 "nbformat": 4,
 "nbformat_minor": 2
}
